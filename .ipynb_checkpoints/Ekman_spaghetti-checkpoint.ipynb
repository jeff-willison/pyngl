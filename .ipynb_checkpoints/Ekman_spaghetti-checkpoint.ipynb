{
 "cells": [
  {
   "cell_type": "markdown",
   "metadata": {},
   "source": [
    "## This script will create a spaghetti plot for the Ekman eddy"
   ]
  },
  {
   "cell_type": "markdown",
   "metadata": {},
   "source": [
    "Import stuff"
   ]
  },
  {
   "cell_type": "code",
   "execution_count": 1,
   "metadata": {},
   "outputs": [],
   "source": [
    "import numpy as np\n",
    "import Nio,Ngl\n",
    "import os,sys\n",
    "import datetime"
   ]
  },
  {
   "cell_type": "markdown",
   "metadata": {},
   "source": [
    "These are things that are likely to need changing"
   ]
  },
  {
   "cell_type": "code",
   "execution_count": 2,
   "metadata": {},
   "outputs": [],
   "source": [
    "  instances = 33\n",
    "  root = \"/scratch/rhe/GoM/Data-Assimilation/jan2009b/\"\n",
    "  #-- open file\n",
    "  f = Nio.open_file(root+\"instance_0001/roms_posterior_0001_55013.nc\",\"r\")\n",
    "  wks_type = \"png\"\n",
    "  wks = Ngl.open_wks(wks_type,\"ekman_ssh_20cm\")\n",
    "  Ngl.define_colormap(wks,\"default\")         # Change color map.\n",
    "  startt=54855\n",
    "  endt=55087"
   ]
  },
  {
   "cell_type": "code",
   "execution_count": 3,
   "metadata": {
    "scrolled": true
   },
   "outputs": [],
   "source": [
    "  x = f.variables[\"zeta\"][0,:,:]\n",
    "  lat = f.variables[\"lat_rho\"][:,0]\n",
    "  lon = f.variables[\"lon_rho\"][0,:]\n",
    "    \n",
    "  mres                     = Ngl.Resources()\n",
    "  mres.mpLimitMode           = \"LatLon\"   # Specify area of map\n",
    "  mres.mpMaxLatF             = 28.        # to zoom in on.\n",
    "  mres.mpMinLatF             = 23.\n",
    "  mres.mpMaxLonF             = -84.        # to zoom in on.\n",
    "  mres.mpMinLonF             = -90.\n",
    "  mres.sfXArray             = lon         # Area of map to overlay \n",
    "  mres.sfYArray             = lat         # contours on.\n",
    "  mres.mpProjection        = \"Mercator\"    # choose projection\n",
    "  mres.tfDoNDCOverlay      = True                  # native grid, no transform\n",
    "  mres.nglDraw             = False                 # don't draw yet\n",
    "  mres.nglFrame            = False                 # don't advance frame yet\n",
    "  mres.pmTickMarkDisplayMode = \"Always\"            # turn on tickmarks\n",
    "\n",
    "  plot_base = Ngl.map(wks,mres)\n",
    "\n",
    "\n",
    "  res = Ngl.Resources()\n",
    "  for t in dir(mres):\n",
    "   if (t[0:2] == 'cn' or t[0:2] == 'sf' or t[0:3] == 'ngl'):\n",
    "    setattr(res,t,getattr(mres,t))\n",
    "\n",
    "  res.mpLimitMode           = \"LatLon\"   # Specify area of map\n",
    "  res.mpMaxLatF             = 28.        # to zoom in on.\n",
    "  res.mpMinLatF             = 23.\n",
    "  res.mpMaxLonF             = -84.        # to zoom in on.\n",
    "  res.mpMinLonF             = -90.\n",
    "  res.sfXArray             = lon         # Area of map to overlay \n",
    "  res.sfYArray             = lat         # contours on.\n",
    "  res.cnLevelSelectionMode = \"ExplicitLevels\" # explicit contour levels\n",
    "  res.cnLevels             = 0.2              # which level(s) to plot\n",
    "  res.cnInfoLabelOn        = False            # no info label\n",
    "  res.cnLineLabelsOn       = False            # no line labels\n",
    "  res.cnLineThicknessF     = 2                # thickness of contour lines"
   ]
  },
  {
   "cell_type": "code",
   "execution_count": 4,
   "metadata": {},
   "outputs": [],
   "source": [
    "  nt=endt-startt+1\n",
    "  datea=datetime.datetime(1858,11,17)\n",
    "  dateaordinal=datetime.date.toordinal(datea)\n",
    " \n",
    "  filesi=list(range(1,instances+1,1))\n",
    "  filestrings=[str(item).zfill(4) for item in filesi]"
   ]
  },
  {
   "cell_type": "code",
   "execution_count": 5,
   "metadata": {},
   "outputs": [
    {
     "name": "stdout",
     "output_type": "stream",
     "text": [
      "at Jan 24, 2009\n",
      "at Jan 26, 2009\n",
      "at Jan 28, 2009\n",
      "at Jan 30, 2009\n",
      "at Feb  1, 2009\n",
      "at Feb  3, 2009\n",
      "at Feb  5, 2009\n",
      "at Feb  7, 2009\n",
      "at Feb  9, 2009\n",
      "at Feb 11, 2009\n",
      "at Feb 13, 2009\n",
      "at Feb 15, 2009\n",
      "at Feb 17, 2009\n",
      "at Feb 19, 2009\n",
      "at Feb 21, 2009\n",
      "at Feb 23, 2009\n"
     ]
    },
    {
     "ename": "KeyboardInterrupt",
     "evalue": "",
     "output_type": "error",
     "traceback": [
      "\u001b[0;31m---------------------------------------------------------------------------\u001b[0m",
      "\u001b[0;31mKeyboardInterrupt\u001b[0m                         Traceback (most recent call last)",
      "\u001b[0;32m<ipython-input-5-e6b4e8e390b3>\u001b[0m in \u001b[0;36m<module>\u001b[0;34m\u001b[0m\n\u001b[1;32m     11\u001b[0m \u001b[0;34m\u001b[0m\u001b[0m\n\u001b[1;32m     12\u001b[0m     \u001b[0mres\u001b[0m\u001b[0;34m.\u001b[0m\u001b[0mtiMainString\u001b[0m         \u001b[0;34m=\u001b[0m \u001b[0mdate_str\u001b[0m\u001b[0;34m\u001b[0m\u001b[0;34m\u001b[0m\u001b[0m\n\u001b[0;32m---> 13\u001b[0;31m     \u001b[0mx\u001b[0m\u001b[0;34m=\u001b[0m\u001b[0mf\u001b[0m\u001b[0;34m.\u001b[0m\u001b[0mvariables\u001b[0m\u001b[0;34m[\u001b[0m\u001b[0;34m\"zeta\"\u001b[0m\u001b[0;34m]\u001b[0m\u001b[0;34m[\u001b[0m\u001b[0;36m0\u001b[0m\u001b[0;34m,\u001b[0m\u001b[0;34m:\u001b[0m\u001b[0;34m,\u001b[0m\u001b[0;34m:\u001b[0m\u001b[0;34m]\u001b[0m\u001b[0;34m\u001b[0m\u001b[0;34m\u001b[0m\u001b[0m\n\u001b[0m\u001b[1;32m     14\u001b[0m     \u001b[0mres\u001b[0m\u001b[0;34m.\u001b[0m\u001b[0mcnLineColor\u001b[0m \u001b[0;34m=\u001b[0m \u001b[0;36m2\u001b[0m\u001b[0;34m+\u001b[0m\u001b[0mi\u001b[0m                      \u001b[0;31m# Change line color.\u001b[0m\u001b[0;34m\u001b[0m\u001b[0;34m\u001b[0m\u001b[0m\n\u001b[1;32m     15\u001b[0m     \u001b[0;31m#res.cnLineColor      = colors[i]     # change line color\u001b[0m\u001b[0;34m\u001b[0m\u001b[0;34m\u001b[0m\u001b[0;34m\u001b[0m\u001b[0m\n",
      "\u001b[0;32m~/miniconda3/envs/ncl_to_python/lib/python3.7/site-packages/PyNIO/Nio.py\u001b[0m in \u001b[0;36m__getitem__\u001b[0;34m(self, xsel)\u001b[0m\n\u001b[1;32m    350\u001b[0m     '''\n\u001b[1;32m    351\u001b[0m \u001b[0;34m\u001b[0m\u001b[0m\n\u001b[0;32m--> 352\u001b[0;31m     \u001b[0mret\u001b[0m \u001b[0;34m=\u001b[0m \u001b[0mget_variable\u001b[0m\u001b[0;34m(\u001b[0m\u001b[0mself\u001b[0m\u001b[0;34m.\u001b[0m\u001b[0mfile\u001b[0m\u001b[0;34m,\u001b[0m \u001b[0mself\u001b[0m\u001b[0;34m.\u001b[0m\u001b[0mvarname\u001b[0m\u001b[0;34m,\u001b[0m \u001b[0mxsel\u001b[0m\u001b[0;34m)\u001b[0m\u001b[0;34m\u001b[0m\u001b[0;34m\u001b[0m\u001b[0m\n\u001b[0m\u001b[1;32m    353\u001b[0m \u001b[0;34m\u001b[0m\u001b[0m\n\u001b[1;32m    354\u001b[0m     \u001b[0mret\u001b[0m \u001b[0;34m=\u001b[0m \u001b[0m_fill_value_to_masked\u001b[0m\u001b[0;34m(\u001b[0m\u001b[0mself\u001b[0m\u001b[0;34m,\u001b[0m\u001b[0mret\u001b[0m\u001b[0;34m)\u001b[0m\u001b[0;34m\u001b[0m\u001b[0;34m\u001b[0m\u001b[0m\n",
      "\u001b[0;32m~/miniconda3/envs/ncl_to_python/lib/python3.7/site-packages/PyNIO/coordsel.py\u001b[0m in \u001b[0;36mget_variable\u001b[0;34m(file, varname, xsel)\u001b[0m\n\u001b[1;32m     63\u001b[0m         \u001b[0morder\u001b[0m \u001b[0;34m=\u001b[0m \u001b[0mxsel\u001b[0m\u001b[0;34m.\u001b[0m\u001b[0morder\u001b[0m\u001b[0;34m\u001b[0m\u001b[0;34m\u001b[0m\u001b[0m\n\u001b[1;32m     64\u001b[0m     \u001b[0;32mif\u001b[0m \u001b[0;32mnot\u001b[0m \u001b[0misinstance\u001b[0m\u001b[0;34m(\u001b[0m\u001b[0mxsel\u001b[0m\u001b[0;34m,\u001b[0m \u001b[0mxSelect\u001b[0m\u001b[0;34m)\u001b[0m \u001b[0;32mor\u001b[0m \u001b[0mxsel\u001b[0m\u001b[0;34m.\u001b[0m\u001b[0misbasic\u001b[0m\u001b[0;34m:\u001b[0m\u001b[0;34m\u001b[0m\u001b[0;34m\u001b[0m\u001b[0m\n\u001b[0;32m---> 65\u001b[0;31m         \u001b[0mret\u001b[0m \u001b[0;34m=\u001b[0m \u001b[0mfile\u001b[0m\u001b[0;34m.\u001b[0m\u001b[0mfile\u001b[0m\u001b[0;34m.\u001b[0m\u001b[0mvariables\u001b[0m\u001b[0;34m[\u001b[0m\u001b[0mvarname\u001b[0m\u001b[0;34m]\u001b[0m\u001b[0;34m[\u001b[0m\u001b[0mxsel\u001b[0m\u001b[0;34m]\u001b[0m\u001b[0;34m\u001b[0m\u001b[0;34m\u001b[0m\u001b[0m\n\u001b[0m\u001b[1;32m     66\u001b[0m     \u001b[0;32melse\u001b[0m\u001b[0;34m:\u001b[0m\u001b[0;34m\u001b[0m\u001b[0;34m\u001b[0m\u001b[0m\n\u001b[1;32m     67\u001b[0m         \u001b[0;32mif\u001b[0m \u001b[0mxsel\u001b[0m\u001b[0;34m.\u001b[0m\u001b[0mmasked\u001b[0m\u001b[0;34m:\u001b[0m\u001b[0;34m\u001b[0m\u001b[0;34m\u001b[0m\u001b[0m\n",
      "\u001b[0;31mKeyboardInterrupt\u001b[0m: "
     ]
    }
   ],
   "source": [
    "for t in range(startt,endt,2):\n",
    "  datebordinal=dateaordinal+t\n",
    "  date_obj=datetime.date.fromordinal(datebordinal)\n",
    "  date_str=date_obj.strftime('%b %e, %Y')\n",
    "  plot_base = Ngl.map(wks,mres)\n",
    "\n",
    "  for i in range(0,instances):\n",
    "    #print(\"at i=\"+str(i))\n",
    "    #print(root+\"instance_\"+filestrings[i]+\"/roms_his_\"+filestrings[i]+\"_\"+str(t)+\".nc\")\n",
    "    f = Nio.open_file(root+\"instance_\"+filestrings[i]+\"/roms_his_\"+filestrings[i]+\"_\"+str(t)+\".nc\",\"r\")\n",
    "    \n",
    "    res.tiMainString         = date_str\n",
    "    x=f.variables[\"zeta\"][0,:,:]\n",
    "    res.cnLineColor = 2+i                      # Change line color.\n",
    "    #res.cnLineColor      = colors[i]     # change line color \n",
    "    plot = Ngl.contour(wks,x,res)           # Generate contours.\n",
    "    Ngl.overlay(plot_base,plot)                  # Overlay this contour on map.\n",
    " \n",
    "  # Draw the plot, add the lon labels, and advance the frame.\n",
    "  Ngl.draw(plot_base)\n",
    "  Ngl.frame(wks)\n",
    "  print(\"at \"+date_str)\n"
   ]
  },
  {
   "cell_type": "code",
   "execution_count": null,
   "metadata": {},
   "outputs": [],
   "source": []
  }
 ],
 "metadata": {
  "kernelspec": {
   "display_name": "Python 3",
   "language": "python",
   "name": "python3"
  },
  "language_info": {
   "codemirror_mode": {
    "name": "ipython",
    "version": 3
   },
   "file_extension": ".py",
   "mimetype": "text/x-python",
   "name": "python",
   "nbconvert_exporter": "python",
   "pygments_lexer": "ipython3",
   "version": "3.7.3"
  }
 },
 "nbformat": 4,
 "nbformat_minor": 2
}

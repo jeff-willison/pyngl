{
 "cells": [
  {
   "cell_type": "markdown",
   "metadata": {},
   "source": [
    "Running a fresh DART-ROMS experiment on RENCI requires configuring ROMS and configuring DART. Below is a CNAPS example.\n",
    "\n",
    "**1) Clone the repo**\n",
    "\n",
    "You will have to be a collaborator on the git project. Use your NCSU unity login credentials."
   ]
  },
  {
   "cell_type": "raw",
   "metadata": {},
   "source": [
    "git clone https://github.ncsu.edu/rhe/Data-Assimilation.git"
   ]
  },
  {
   "cell_type": "markdown",
   "metadata": {},
   "source": [
    "**2) Go inside the ROMS directory**\n",
    "\n",
    "We are currently using a ROMS version from May 2018."
   ]
  },
  {
   "cell_type": "raw",
   "metadata": {},
   "source": [
    "cd Data-Assimilation/ROMS_May2018/"
   ]
  },
  {
   "cell_type": "markdown",
   "metadata": {},
   "source": [
    "**3) Set the MY_ROOT_DIR path in build_Mao_renci.bash to your new ROMS directory**"
   ]
  },
  {
   "cell_type": "raw",
   "metadata": {},
   "source": [
    "vi build_Mao_renci.bash"
   ]
  },
  {
   "cell_type": "markdown",
   "metadata": {},
   "source": [
    "this path"
   ]
  },
  {
   "cell_type": "raw",
   "metadata": {},
   "source": [
    "export     MY_ROOT_DIR=/scratch/rhe/cnaps/Data-Assimilation/ROMS_May2018"
   ]
  },
  {
   "cell_type": "markdown",
   "metadata": {},
   "source": [
    "**4) Load necessary NETCDF/etc. libraries**"
   ]
  },
  {
   "cell_type": "raw",
   "metadata": {},
   "source": [
    "source /home/rhe/loadall.csh"
   ]
  },
  {
   "cell_type": "markdown",
   "metadata": {},
   "source": [
    "**5) Build ROMS for EAKF**\n",
    "\n",
    "The EAKF configuration is set in the useast.h file"
   ]
  },
  {
   "cell_type": "raw",
   "metadata": {},
   "source": [
    "./build_Mao_renci.bash"
   ]
  },
  {
   "cell_type": "markdown",
   "metadata": {},
   "source": [
    " This creates the ROMS executable “oceanM”, which will be used to launch all instances of ROMS for the ensemble. If you want to change an option in ROMS you can recompile without re-staging the entire ensemble, but you must cp oceanM to the path of your working ensemble. \n",
    "\n",
    "**6) Locate and aggregate necessary files in a central directory. Name it something like “ncfiles”**"
   ]
  },
  {
   "cell_type": "raw",
   "metadata": {},
   "source": [
    "[rhe@ht3 ncfiles]$ pwd\n",
    "/scratch/rhe/test/ncfiles"
   ]
  },
  {
   "cell_type": "markdown",
   "metadata": {},
   "source": [
    "cnaps_ocean.in.template could point directly to forcing/boundary/superobs/ini files in Shun’s directory, but SLURM seems to have trouble reaching over to another user’s directory for files during the simulation so might have copied these to our own work space in /scratch/rhe/cnaps/ncfiles directory.\n",
    "\n",
    "\tFor ROMS:\n",
    "\t\tforcing\n",
    "\t\tboundary\n",
    "\t\tgrid"
   ]
  },
  {
   "cell_type": "raw",
   "metadata": {},
   "source": [
    "[rhe@ht3 ncfiles]$ cp /scratch/rhe/cnaps/ncfiles/*2017* . \n",
    "[rhe@ht3 ncfiles]$ cp /scratch/rhe/cnaps/ncfiles/useast_grd_5p5fac.nc .\n",
    "[rhe@ht3 ncfiles]$ cp /scratch/rhe/cnaps/ncfiles/useast_bry_hycom_3_1_biascorr_2017_2017*.nc ."
   ]
  },
  {
   "cell_type": "markdown",
   "metadata": {},
   "source": [
    "      For EAKF:\n",
    "        sampling error correction table with desired ensemble size\n",
    "        perturbation files for each member\n",
    "        super obs\n",
    "This has to be in a strange directory —> /ENKF/rma/assimilation_code/programs/system_simulation/work"
   ]
  },
  {
   "cell_type": "raw",
   "metadata": {},
   "source": [
    "cp /scratch/rhe/cnaps/ncfiles/sampling_error_correction_table.nc /scratch/rhe/cnaps/Data-Assimilation/ENKF/rma/assimilation_code/programs/system_simulation/work/sampling_error_correction_table.nc"
   ]
  },
  {
   "cell_type": "markdown",
   "metadata": {},
   "source": [
    "Might as well double check this"
   ]
  },
  {
   "cell_type": "raw",
   "metadata": {},
   "source": [
    "ncdump -v ens_sizes /scratch/rhe/cnaps/ncfiles/sampling_error_correction_table.nc\n",
    "netcdf sampling_error_correction_table {\n",
    "dimensions:\n",
    "\tbins = 200 ;\n",
    "\tens_sizes = UNLIMITED ; // (42 currently)\n",
    "variables:\n",
    "\tint count(ens_sizes, bins) ;\n",
    "\t\tcount:description = \"number of samples in each bin\" ;\n",
    "\tdouble true_corr_mean(ens_sizes, bins) ;\n",
    "\tdouble alpha(ens_sizes, bins) ;\n",
    "\t\talpha:description = \"sampling error correction factors\" ;\n",
    "\tint ens_sizes(ens_sizes) ;\n",
    "\t\tens_sizes:description = \"ensemble size used for calculation\" ;\n",
    "\n",
    "// global attributes:\n",
    "\t\t:num_samples = 100000000 ;\n",
    "\t\t:title = \"Sampling Error Corrections for fixed ensemble sizes.\" ;\n",
    "\t\t:version = \"original values as from final_full.nn\" ;\n",
    "\t\t:reference = \"Anderson, J., 2012: Localization and Sampling Error Correction in Ensemble Kalman Filter Data Assimilation. Mon. Wea. Rev., 140, 2359-2371, doi: 10.1175/MWR-D-11-00013.1.\" ;\n",
    "data:\n",
    "\n",
    " ens_sizes = 5, 6, 7, 8, 9, 10, 12, 14, 15, 16, 18, 20, 22, 24, 28, 30, 32, \n",
    "    36, 40, 44, 48, 49, 50, 52, 56, 60, 64, 70, 72, 80, 84, 88, 90, 96, 100, \n",
    "    120, 140, 160, 180, 200, 21, 31 ;\n",
    "}\n"
   ]
  },
  {
   "cell_type": "markdown",
   "metadata": {},
   "source": [
    "There’s 31 at the end there. See here about how to add other ensemble sizes (https://www.image.ucar.edu/DAReS/DART/Manhattan/assimilation_code/programs/gen_sampling_err_table/gen_sampling_err_table.html)\n",
    "\n",
    "Perturbation files were created on Cheyenne where Haibo’s 30yr hindcast is located\n",
    "     super obs\n",
    "\n",
    "Super obs are in Shun's directory"
   ]
  },
  {
   "cell_type": "markdown",
   "metadata": {},
   "source": [
    "CNAPS perturbation files are in: /scratch/rhe/cnaps/ncfiles/april_1"
   ]
  },
  {
   "cell_type": "raw",
   "metadata": {},
   "source": [
    "[rhe@ht3 ncfiles]$ cp /scratch/rhe/cnaps/ncfiles/useast_All_super_obs_1718_736755.nc ."
   ]
  },
  {
   "cell_type": "markdown",
   "metadata": {},
   "source": [
    "**7) Time to set up stuff in the Ensemble directory. Check settings in ocean.in.template**"
   ]
  },
  {
   "cell_type": "raw",
   "metadata": {},
   "source": [
    "[rhe@ht3 ROMS_May2018]$ cd Ensemble/\n",
    "[rhe@ht3 Ensemble]$ pwd\n",
    "/scratch/rhe/test/Data-Assimilation/ROMS_May2018/Ensemble\n",
    "\n",
    "cp cnaps_ocean.in.template ocean.in.template\n",
    "vi Ensemble/ocean.in.template"
   ]
  },
  {
   "cell_type": "markdown",
   "metadata": {},
   "source": [
    "Here’s a diff between CNAPS and GoM ocean.in.template files. Notice the difference in grid points, etc. Anywhere there is a path you need to change it to your own. "
   ]
  },
  {
   "cell_type": "raw",
   "metadata": {},
   "source": [
    "<           Lm == 400           ! Number of I-direction INTERIOR RHO-points\n",
    "<           Mm == 480           ! Number of J-direction INTERIOR RHO-points\n",
    "---\n",
    ">           Lm == 600           ! Number of I-direction INTERIOR RHO-points\n",
    ">           Mm == 450           ! Number of J-direction INTERIOR RHO-points"
   ]
  },
  {
   "cell_type": "markdown",
   "metadata": {},
   "source": [
    "Path to varinfo.dat should be your own"
   ]
  },
  {
   "cell_type": "raw",
   "metadata": {},
   "source": [
    "<     VARNAME = /scratch/rhe/Data-Assimilation/ROMS_May2018/varinfo.dat\n",
    "---\n",
    ">     VARNAME = /scratch/rhe/GoM/Data-Assimilation/ROMS_May2018/varinfo.dat"
   ]
  },
  {
   "cell_type": "markdown",
   "metadata": {},
   "source": [
    "Handling of boundary conditions. Change RadNud to Clamped for now, though, for consistency with Shun’s 4DVAR configuration. Notice how the GOM domain has North and South boundaries, unlike CNAPS."
   ]
  },
  {
   "cell_type": "raw",
   "metadata": {},
   "source": [
    "<    LBC(isFsur) ==   Clo     Clo     Cha     Clo         ! free-surface\n",
    "<    LBC(isUbar) ==   Clo     Clo     Fla     Clo         ! 2D U-momentum\n",
    "<    LBC(isVbar) ==   Clo     Clo     Fla     Clo         ! 2D V-momentum\n",
    "<    LBC(isUvel) ==   Clo     Clo     Cla     Clo         ! 3D U-momentum\n",
    "<    LBC(isVvel) ==   Clo     Clo     Cla     Clo         ! 3D V-momentum\n",
    "<    LBC(isMtke) ==   Clo     Clo     Gra     Clo         ! mixing TKE\n",
    "---\n",
    ">    LBC(isFsur) ==   Clo     Cha     Cha     Cha         ! free-surface\n",
    ">    LBC(isUbar) ==   Clo     Fla     Fla     Fla         ! 2D U-momentum\n",
    ">    LBC(isVbar) ==   Clo     Fla     Fla     Fla         ! 2D V-momentum\n",
    ">    LBC(isUvel) ==   Clo     RadNud   RadNud    RadNud         ! 3D U-momentum\n",
    ">    LBC(isVvel) ==   Clo     RadNud   RadNud    RadNud         ! 3D V-momentum\n",
    ">    LBC(isMtke) ==   Clo     Gra     Gra     Gra         ! mixing TKE\n",
    "\n",
    "<    LBC(isTvar) ==   Clo     Clo     Cla     Clo \\       ! temperature\n",
    "<                     Clo     Clo     Cla     Clo         ! salinity\n",
    "---\n",
    ">    LBC(isTvar) ==   Clo     RadNud     RadNud  RadNud \\       ! temperature\n",
    ">                     Clo     RadNud     RadNud  RadNud         ! salinity"
   ]
  },
  {
   "cell_type": "markdown",
   "metadata": {},
   "source": [
    "Timestep and related timing variables. Double the tilmestep means double the NTIMES for a 2 day run. FGAT"
   ]
  },
  {
   "cell_type": "raw",
   "metadata": {},
   "source": [
    "\n",
    "<       NTIMES == 1440\n",
    "<           DT == 120\n",
    "---\n",
    ">       NTIMES == 2880\n",
    ">           DT == 60\n",
    "\n",
    "<         NRST == 1440\n",
    "---\n",
    ">         NRST == 2880\n",
    "220c220\n",
    "<         NHIS == 1440\n",
    "---\n",
    ">         NHIS == 2880\n",
    "223c223\n",
    "<         NAVG == 1440\n",
    "---\n",
    ">         NAVG == 2880"
   ]
  },
  {
   "cell_type": "markdown",
   "metadata": {},
   "source": [
    "Grid file path\n"
   ]
  },
  {
   "cell_type": "raw",
   "metadata": {},
   "source": [
    "<      GRDNAME == /scratch/rhe/cnaps/ncfiles/useast_grd_5p5fac.nc\n",
    "---\n",
    ">      GRDNAME == /scratch/rhe/For_Jeff/useast_grd_5p5fac_GoM_V3.nc\n"
   ]
  },
  {
   "cell_type": "markdown",
   "metadata": {},
   "source": [
    "Boundary condition file path\n"
   ]
  },
  {
   "cell_type": "raw",
   "metadata": {},
   "source": [
    "<      BRYNAME == /scratch/rhe/cnaps/ncfiles/useast_bry_hycom_3_1_biascorr_2017_2017a.nc |\n",
    "<                 /scratch/rhe/cnaps/ncfiles/useast_bry_hycom_3_1_biascorr_2017_2017b.nc |\n",
    "<                 /scratch/rhe/cnaps/ncfiles/useast_bry_hycom_3_1_biascorr_2018_2018a.nc |\n",
    "<                 /scratch/rhe/cnaps/ncfiles/useast_bry_hycom_3_1_biascorr_2018_2018b.nc\n",
    "---\n",
    ">      BRYNAME == \n",
    ">       /scratch/rhe/For_Jeff/jan_2009_hycom_bry.nc |\n",
    ">       /scratch/rhe/For_Jeff/feb_2009_hycom_bry.nc"
   ]
  },
  {
   "cell_type": "markdown",
   "metadata": {},
   "source": [
    "Forcing file path\n"
   ]
  },
  {
   "cell_type": "raw",
   "metadata": {},
   "source": [
    "<      FRCNAME == /scratch/rhe/cnaps/ncfiles/useast_Pair_era2017.nc\\\n",
    "<  /scratch/rhe/cnaps/ncfiles/useast_wind_era2017.nc\\\n",
    "<  /scratch/rhe/cnaps/ncfiles/useast_Tair_era2017.nc\\\n",
    "<  /scratch/rhe/cnaps/ncfiles/useast_Qair_era2017.nc\\\n",
    "<  /scratch/rhe/cnaps/ncfiles/useast_rain_era2017.nc\\\n",
    "<  /scratch/rhe/cnaps/ncfiles/useast_swrad_era2017.nc\\\n",
    "<  /scratch/rhe/cnaps/ncfiles/useast_lwrad_era2017.nc\n",
    "---\n",
    ">      FRCNAME == /scratch/rhe/bkp_2/ncfiles/2010/useast_Pair_era2009.nc\\\n",
    ">  /scratch/rhe/bkp_2/ncfiles/2010/useast_wind_era2009.nc\\\n",
    ">  /scratch/rhe/bkp_2/ncfiles/2010/useast_Tair_era2009.nc\\\n",
    ">  /scratch/rhe/bkp_2/ncfiles/2010/useast_Qair_era2009.nc\\\n",
    ">  /scratch/rhe/bkp_2/ncfiles/2010/useast_rain_era2009.nc\\\n",
    ">  /scratch/rhe/bkp_2/ncfiles/2010/useast_swrad_era2009.nc\\\n",
    ">  /scratch/rhe/bkp_2/ncfiles/2010/useast_lwrad_era2009.nc"
   ]
  },
  {
   "cell_type": "markdown",
   "metadata": {},
   "source": [
    "Decide how many processors you want each member to use. In this case, 64:\n"
   ]
  },
  {
   "cell_type": "raw",
   "metadata": {},
   "source": [
    "      NtileI == 8                             ! I-direction partition\n",
    "      NtileJ == 8                               ! J-direction partition"
   ]
  },
  {
   "cell_type": "markdown",
   "metadata": {},
   "source": [
    "**8) Copy or link initial conditions for ensemble from ncfiles to ROMS_MAY2018/Ensemble**\n"
   ]
  },
  {
   "cell_type": "raw",
   "metadata": {},
   "source": [
    "ln -sf /scratch/rhe/cnaps/ncfiles/april_1/useast*ini*.nc /scratch/rhe/cnaps/Data-Assimilation/ROMS_May2018/Ensemble"
   ]
  },
  {
   "cell_type": "markdown",
   "metadata": {},
   "source": [
    "**9) Change super obs path in s4dvar.in.template**"
   ]
  },
  {
   "cell_type": "raw",
   "metadata": {},
   "source": [
    "   vi ROMS/s4dvar.in.template\n",
    "        OBSname == /scratch/rhe/cnaps/Data-Assimilation/ROMS_May2018/Obs/CNAP_obs.nc"
   ]
  },
  {
   "cell_type": "markdown",
   "metadata": {},
   "source": [
    "Make that file exist\n"
   ]
  },
  {
   "cell_type": "raw",
   "metadata": {},
   "source": [
    "  cd ../Obs\n",
    "  cp /scratch/rhe/cnaps/ncfiles/useast_All_super_obs_1718_736755.nc CNAP_obs.nc"
   ]
  },
  {
   "cell_type": "markdown",
   "metadata": {},
   "source": [
    "---------------"
   ]
  },
  {
   "cell_type": "markdown",
   "metadata": {},
   "source": [
    "# 11) Prepare DART"
   ]
  },
  {
   "cell_type": "raw",
   "metadata": {},
   "source": [
    "cd /scratch/rhe/cnaps/Data-Assimilation/ENKF/rma/models/ROMS/shell_scripts/"
   ]
  },
  {
   "cell_type": "markdown",
   "metadata": {},
   "source": [
    "There are several scripts you need to edit before \"staging\" the experiment.\n",
    "\n",
    "\n",
    "**11a)   vi advance_ensemble.csh.template**\n",
    "\n",
    "This is the script that will make the ensemble members run over and over again (cycle). Important things here are\n",
    " - how many members do you want to run at a time?"
   ]
  },
  {
   "cell_type": "raw",
   "metadata": {},
   "source": [
    "\t\t#SBATCH --array=1-31%5  — this runs 31 members, 5 at a time. From above, using 64 cores per member."
   ]
  },
  {
   "cell_type": "markdown",
   "metadata": {},
   "source": [
    "  - where do you want the job to run?"
   ]
  },
  {
   "cell_type": "raw",
   "metadata": {},
   "source": [
    "     cd /scratch/rhe/cnaps/Data-Assimilation/april2017/$INSTANCE_DIRECTORY"
   ]
  },
  {
   "cell_type": "markdown",
   "metadata": {},
   "source": [
    "  - where is the ROMS directory?"
   ]
  },
  {
   "cell_type": "raw",
   "metadata": {},
   "source": [
    "     /scratch/rhe/cnaps/Data-Assimilation/ROMS_May2018/ROMS/Bin/substitute s4dvar.in     MyOBSname   $NEW_OBS\n",
    "     /scratch/rhe/cnaps/Data-Assimilation/ROMS_May2018/ROMS/Bin/substitute ocean.in  MyDSTART   ${DSTART}\n",
    "     /scratch/rhe/cnaps/Data-Assimilation/ROMS_May2018/ROMS/Bin/substitute ocean.in  MyININAME  ${ROMS_POSTERIOR}"
   ]
  },
  {
   "cell_type": "markdown",
   "metadata": {},
   "source": [
    "**11b) vi stage_experiment_renci.csh**\n",
    "\n",
    "This script creates a directory where the experiment will take place and copies everything you need to it. \n",
    "\n",
    "- where are the important directories directory?"
   ]
  },
  {
   "cell_type": "raw",
   "metadata": {},
   "source": [
    "   case ht*\n",
    "      set DARTDIR = /scratch/rhe/cnaps/Data-Assimilation/ENKF/rma\n",
    "      set ROMSDIR = /scratch/rhe/cnaps/Data-Assimilation/ROMS_May2018\n",
    "      set  SRCDIR = /scratch/rhe/cnaps/Data-Assimilation/ROMS_May2018/ROMS\n",
    "      set SUBSTITUTE = ${SRCDIR}/Bin/substitute\n",
    "      set EXPERIMENTDIR = /scratch/rhe/cnaps/Data-Assimilation/april2017"
   ]
  },
  {
   "cell_type": "markdown",
   "metadata": {},
   "source": [
    "Fix these"
   ]
  },
  {
   "cell_type": "raw",
   "metadata": {},
   "source": [
    "set ENSEMBLE_SIZE = 31\n",
    "set ROMS_DSTART = 57844"
   ]
  },
  {
   "cell_type": "markdown",
   "metadata": {},
   "source": [
    "Things like this won’t matter unless you soft code them in ocean.in.template. I hard code them for some reason. The only ones that **need** to be soft coded are DSTART and ININAME because they’ll be updated after every filter cycle.\n",
    "\n",
    "By soft code I mean putting the actual number in the ocean.in.template instead of putting \"MyNtileI\" or whatever, which would be replaced by the numbers below when this script runs. If you don't put \"MyXXXXXX\" in ocean.in.template then these calls to $SUBSTITUTE won't change anything. "
   ]
  },
  {
   "cell_type": "raw",
   "metadata": {},
   "source": [
    "$SUBSTITUTE  ocean.in.template  MyNtileI     8\n",
    "$SUBSTITUTE  ocean.in.template  MyNtileJ     8\n",
    "$SUBSTITUTE  ocean.in.template  MyNTIMES     8928\n",
    "$SUBSTITUTE  ocean.in.template  MyDT         300.0d0\n",
    "$SUBSTITUTE  ocean.in.template  MyNRST       8640\n",
    "$SUBSTITUTE  ocean.in.template  MyTIME_REF   18581117.0d0"
   ]
  },
  {
   "cell_type": "markdown",
   "metadata": {},
   "source": [
    "**11c) vi submit_multiple_jobs_slurm.csh**\n",
    "\n",
    "This is the script you wil use to start and restart the ensemble. \n",
    "- How many cycles do you want to run?"
   ]
  },
  {
   "cell_type": "raw",
   "metadata": {},
   "source": [
    "set NCYCLES = 15\n",
    "set rundir = /scratch/rhe/cnaps/Data-Assimilation/april2017"
   ]
  },
  {
   "cell_type": "markdown",
   "metadata": {},
   "source": [
    "11d) vi run_filter.csh.template\n",
    "\n",
    "This is the script that controls the filter, which runs once all the ROMS instances have finished.\n",
    "- How many cores would you like the filter to use?\n",
    "- Where are we running?"
   ]
  },
  {
   "cell_type": "raw",
   "metadata": {},
   "source": [
    "#SBATCH --ntasks=96\n",
    "cd /scratch/rhe/cnaps/Data-Assimilation/april2017"
   ]
  },
  {
   "cell_type": "markdown",
   "metadata": {},
   "source": [
    "**11e) Check DART configuration.**\n",
    "\n",
    "This is the namelist that controls actual DART behavior. The previous stuff just controls manages how files are copied, updated, etc, from cycle to cycle. "
   ]
  },
  {
   "cell_type": "raw",
   "metadata": {},
   "source": [
    "vi ../work/input.nml.template"
   ]
  },
  {
   "cell_type": "markdown",
   "metadata": {},
   "source": [
    "**12) STAGE THE EXPERIMENT**\n"
   ]
  },
  {
   "cell_type": "raw",
   "metadata": {},
   "source": [
    "./stage_experiment_renci.csh"
   ]
  },
  {
   "cell_type": "markdown",
   "metadata": {},
   "source": [
    "**13) Navigate to the experiment directory and launch it**\n"
   ]
  },
  {
   "cell_type": "raw",
   "metadata": {},
   "source": [
    "cd /scratch/rhe/cnaps/Data-Assimilation/april2017"
   ]
  },
  {
   "cell_type": "markdown",
   "metadata": {},
   "source": [
    "Launch experiment\n"
   ]
  },
  {
   "cell_type": "raw",
   "metadata": {},
   "source": [
    "sbatch < submit_multiple_jobs_slurm.csh "
   ]
  },
  {
   "cell_type": "markdown",
   "metadata": {},
   "source": [
    "**14) Check on experiment.**\n"
   ]
  },
  {
   "cell_type": "raw",
   "metadata": {},
   "source": [
    "[rhe@ht3 april2017]$ squeue -u rhe\n",
    "             JOBID PARTITION     NAME     USER ST       TIME  NODES NODELIST(REASON)\n",
    "           1958822     batch   filter      rhe PD       0:00      6 (Dependency)\n",
    "           1958824     batch   filter      rhe PD       0:00      6 (Dependency)\n",
    "           1958826     batch   filter      rhe PD       0:00      6 (Dependency)\n",
    "           1958828     batch   filter      rhe PD       0:00      6 (Dependency)\n",
    "           1958830     batch   filter      rhe PD       0:00      6 (Dependency)\n",
    "           1958832     batch   filter      rhe PD       0:00      6 (Dependency)\n",
    "           1958834     batch   filter      rhe PD       0:00      6 (Dependency)\n",
    "           1958836     batch   filter      rhe PD       0:00      6 (Dependency)\n",
    "           1958838     batch   filter      rhe PD       0:00      6 (Dependency)\n",
    "           1958840     batch   filter      rhe PD       0:00      6 (Dependency)\n",
    "           1958842     batch   filter      rhe PD       0:00      6 (Dependency)\n",
    "           1958844     batch   filter      rhe PD       0:00      6 (Dependency)\n",
    "           1958846     batch   filter      rhe PD       0:00      6 (Dependency)\n",
    "           1958848     batch   filter      rhe PD       0:00      6 (Dependency)\n",
    "           1958850     batch   filter      rhe PD       0:00      6 (Dependency)\n",
    "  1958823_[1-31%5]     batch roms_adv      rhe PD       0:00      2 (Dependency)\n",
    "  1958825_[1-31%5]     batch roms_adv      rhe PD       0:00      2 (Dependency)\n",
    "  1958827_[1-31%5]     batch roms_adv      rhe PD       0:00      2 (Dependency)\n",
    "  1958829_[1-31%5]     batch roms_adv      rhe PD       0:00      2 (Dependency)\n",
    "  1958831_[1-31%5]     batch roms_adv      rhe PD       0:00      2 (Dependency)\n",
    "  1958833_[1-31%5]     batch roms_adv      rhe PD       0:00      2 (Dependency)\n",
    "  1958835_[1-31%5]     batch roms_adv      rhe PD       0:00      2 (Dependency)\n",
    "  1958837_[1-31%5]     batch roms_adv      rhe PD       0:00      2 (Dependency)\n",
    "  1958839_[1-31%5]     batch roms_adv      rhe PD       0:00      2 (Dependency)\n",
    "  1958841_[1-31%5]     batch roms_adv      rhe PD       0:00      2 (Dependency)\n",
    "  1958843_[1-31%5]     batch roms_adv      rhe PD       0:00      2 (Dependency)\n",
    "  1958845_[1-31%5]     batch roms_adv      rhe PD       0:00      2 (Dependency)\n",
    "  1958847_[1-31%5]     batch roms_adv      rhe PD       0:00      2 (Dependency)\n",
    "  1958849_[1-31%5]     batch roms_adv      rhe PD       0:00      2 (Dependency)\n",
    "[rhe@ht3 april2017]$ "
   ]
  },
  {
   "cell_type": "markdown",
   "metadata": {},
   "source": [
    "See all the filter instances waiting? That’s how many cycles are left. \n",
    "\n",
    "Final step: notice that things have gone horribly wrong. \n",
    "\n",
    "It’s crashing. Cancel the job"
   ]
  },
  {
   "cell_type": "raw",
   "metadata": {},
   "source": [
    "scancel -u rhe"
   ]
  },
  {
   "cell_type": "markdown",
   "metadata": {},
   "source": [
    "Now determine why it’s crashing. Was it during the ROMS part of the job or the DART (filter) part of the job? ROMS:"
   ]
  },
  {
   "cell_type": "raw",
   "metadata": {},
   "source": [
    "cat instance_0001/log_1.txt"
   ]
  },
  {
   "cell_type": "raw",
   "metadata": {},
   "source": [
    " READ_PHYPAR - Grid 01, could not find input file:  /scratch/rhe/cnaps/ncfiles/useast_bry_hycom_3_1_biascorr_2018_2018a.nc"
   ]
  },
  {
   "cell_type": "markdown",
   "metadata": {},
   "source": [
    "Fix this and Re-stage experiment. \n"
   ]
  },
  {
   "cell_type": "raw",
   "metadata": {},
   "source": [
    "[rhe@ht3 april2017]$ squeue -u rhe\n",
    "             JOBID PARTITION     NAME     USER ST       TIME  NODES NODELIST(REASON)\n",
    "           1958864     batch   filter      rhe PD       0:00      6 (Dependency)\n",
    "           1958866     batch   filter      rhe PD       0:00      6 (Dependency)\n",
    "           1958868     batch   filter      rhe PD       0:00      6 (Dependency)\n",
    "           1958870     batch   filter      rhe PD       0:00      6 (Dependency)\n",
    "           1958872     batch   filter      rhe PD       0:00      6 (Dependency)\n",
    "           1958874     batch   filter      rhe PD       0:00      6 (Dependency)\n",
    "           1958876     batch   filter      rhe PD       0:00      6 (Dependency)\n",
    "           1958878     batch   filter      rhe PD       0:00      6 (Dependency)\n",
    "           1958880     batch   filter      rhe PD       0:00      6 (Dependency)\n",
    "           1958882     batch   filter      rhe PD       0:00      6 (Dependency)\n",
    "           1958884     batch   filter      rhe PD       0:00      6 (Dependency)\n",
    "           1958886     batch   filter      rhe PD       0:00      6 (Dependency)\n",
    "           1958888     batch   filter      rhe PD       0:00      6 (Dependency)\n",
    "           1958890     batch   filter      rhe PD       0:00      6 (Dependency)\n",
    "           1958892     batch   filter      rhe PD       0:00      6 (Dependency)\n",
    "  1958865_[1-31%5]     batch roms_adv      rhe PD       0:00      2 (Dependency)\n",
    "  1958867_[1-31%5]     batch roms_adv      rhe PD       0:00      2 (Dependency)\n",
    "  1958869_[1-31%5]     batch roms_adv      rhe PD       0:00      2 (Dependency)\n",
    "  1958871_[1-31%5]     batch roms_adv      rhe PD       0:00      2 (Dependency)\n",
    "  1958873_[1-31%5]     batch roms_adv      rhe PD       0:00      2 (Dependency)\n",
    "  1958875_[1-31%5]     batch roms_adv      rhe PD       0:00      2 (Dependency)\n",
    "  1958877_[1-31%5]     batch roms_adv      rhe PD       0:00      2 (Dependency)\n",
    "  1958879_[1-31%5]     batch roms_adv      rhe PD       0:00      2 (Dependency)\n",
    "  1958881_[1-31%5]     batch roms_adv      rhe PD       0:00      2 (Dependency)\n",
    "  1958883_[1-31%5]     batch roms_adv      rhe PD       0:00      2 (Dependency)\n",
    "  1958885_[1-31%5]     batch roms_adv      rhe PD       0:00      2 (Dependency)\n",
    "  1958887_[1-31%5]     batch roms_adv      rhe PD       0:00      2 (Dependency)\n",
    "  1958889_[1-31%5]     batch roms_adv      rhe PD       0:00      2 (Dependency)\n",
    "  1958891_[1-31%5]     batch roms_adv      rhe PD       0:00      2 (Dependency)\n",
    "  1958863_[6-31%5]     batch roms_adv      rhe PD       0:00      4 (JobArrayTaskLimit)\n",
    "         1958863_1     batch roms_adv      rhe  R       1:11      5 compute-2-[27-31]\n",
    "         1958863_2     batch roms_adv      rhe  R       1:11      5 compute-7-[1,27-28,30-31]\n",
    "         1958863_3     batch roms_adv      rhe  R       1:11     20 compute-7-[1-19,29]\n",
    "         1958863_4     batch roms_adv      rhe  R       1:11      4 compute-3-[7-10]\n",
    "         1958863_5     batch roms_adv      rhe  R       1:11      4 compute-3-[11-14]"
   ]
  },
  {
   "cell_type": "markdown",
   "metadata": {},
   "source": [
    "Success!"
   ]
  },
  {
   "cell_type": "code",
   "execution_count": null,
   "metadata": {},
   "outputs": [],
   "source": []
  }
 ],
 "metadata": {
  "kernelspec": {
   "display_name": "Python 3",
   "language": "python",
   "name": "python3"
  },
  "language_info": {
   "codemirror_mode": {
    "name": "ipython",
    "version": 3
   },
   "file_extension": ".py",
   "mimetype": "text/x-python",
   "name": "python",
   "nbconvert_exporter": "python",
   "pygments_lexer": "ipython3",
   "version": "3.6.7"
  }
 },
 "nbformat": 4,
 "nbformat_minor": 2
}

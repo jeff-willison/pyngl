{
 "cells": [
  {
   "cell_type": "markdown",
   "metadata": {},
   "source": [
    "## This script will create a spaghetti plot for the Ekman eddy"
   ]
  },
  {
   "cell_type": "markdown",
   "metadata": {},
   "source": [
    "Import stuff"
   ]
  },
  {
   "cell_type": "code",
   "execution_count": 1,
   "metadata": {},
   "outputs": [],
   "source": [
    "import numpy as np\n",
    "import Nio,Ngl\n",
    "import os,sys\n",
    "import datetime"
   ]
  },
  {
   "cell_type": "markdown",
   "metadata": {},
   "source": [
    "These are things that are likely to need changing"
   ]
  },
  {
   "cell_type": "code",
   "execution_count": 2,
   "metadata": {},
   "outputs": [],
   "source": [
    "  instances = 33\n",
    "  root = \"/scratch/rhe/GoM/Data-Assimilation/jan2009c/\"\n",
    "  #-- open file\n",
    "  f = Nio.open_file(root+\"instance_0001/roms_posterior_0001_54891.nc\",\"r\")\n",
    "  wks_type = \"png\"\n",
    "  wks = Ngl.open_wks(wks_type,\"ekman_ssh_20cm_c\")\n",
    "  Ngl.define_colormap(wks,\"default\")         # Change color map.\n",
    "  startt=54855\n",
    "  endt=54895"
   ]
  },
  {
   "cell_type": "code",
   "execution_count": 6,
   "metadata": {
    "scrolled": true
   },
   "outputs": [],
   "source": [
    "  x = f.variables[\"zeta\"][0,:,:]\n",
    "  lat = f.variables[\"lat_rho\"][:,0]\n",
    "  lon = f.variables[\"lon_rho\"][0,:]\n",
    "    \n",
    "  mres                     = Ngl.Resources()\n",
    "  mres.mpLimitMode           = \"LatLon\"   # Specify area of map\n",
    "  mres.mpMaxLatF             = 28.        # to zoom in on.\n",
    "  mres.mpMinLatF             = 23.\n",
    "  mres.mpMaxLonF             = -84.        # to zoom in on.\n",
    "  mres.mpMinLonF             = -90.\n",
    "  mres.sfXArray             = lon         # Area of map to overlay \n",
    "  mres.sfYArray             = lat         # contours on.\n",
    "  mres.mpProjection        = \"Mercator\"    # choose projection\n",
    "  mres.tfDoNDCOverlay      = True                  # native grid, no transform\n",
    "  mres.nglDraw             = False                 # don't draw yet\n",
    "  mres.nglFrame            = False                 # don't advance frame yet\n",
    "  mres.pmTickMarkDisplayMode = \"Always\"            # turn on tickmarks\n",
    "\n",
    "  plot_base = Ngl.map(wks,mres)\n",
    "\n",
    "\n",
    "  res = Ngl.Resources()\n",
    "  for t in dir(mres):\n",
    "   if (t[0:2] == 'cn' or t[0:2] == 'sf' or t[0:3] == 'ngl'):\n",
    "    setattr(res,t,getattr(mres,t))\n",
    "\n",
    "  res.mpLimitMode           = \"LatLon\"   # Specify area of map\n",
    "  res.mpMaxLatF             = 28.        # to zoom in on.\n",
    "  res.mpMinLatF             = 23.\n",
    "  res.mpMaxLonF             = -84.        # to zoom in on.\n",
    "  res.mpMinLonF             = -90.\n",
    "  res.sfXArray             = lon         # Area of map to overlay \n",
    "  res.sfYArray             = lat         # contours on.\n",
    "  res.cnLevelSelectionMode = \"ExplicitLevels\" # explicit contour levels\n",
    "  res.cnLevels             = 0.17             # which level(s) to plot\n",
    "  res.cnInfoLabelOn        = False            # no info label\n",
    "  res.cnLineLabelsOn       = False            # no line labels\n",
    "  res.cnLineThicknessF     = 2                # thickness of contour lines"
   ]
  },
  {
   "cell_type": "code",
   "execution_count": 7,
   "metadata": {},
   "outputs": [],
   "source": [
    "  nt=endt-startt+1\n",
    "  datea=datetime.datetime(1858,11,17)\n",
    "  dateaordinal=datetime.date.toordinal(datea)\n",
    " \n",
    "  filesi=list(range(1,instances+1,1))\n",
    "  filestrings=[str(item).zfill(4) for item in filesi]"
   ]
  },
  {
   "cell_type": "code",
   "execution_count": 8,
   "metadata": {},
   "outputs": [
    {
     "name": "stdout",
     "output_type": "stream",
     "text": [
      "at Jan 24, 2009\n",
      "at Jan 26, 2009\n",
      "at Jan 28, 2009\n",
      "at Jan 30, 2009\n",
      "at Feb  1, 2009\n",
      "at Feb  3, 2009\n",
      "at Feb  5, 2009\n",
      "at Feb  7, 2009\n",
      "at Feb  9, 2009\n",
      "at Feb 11, 2009\n",
      "at Feb 13, 2009\n",
      "at Feb 15, 2009\n",
      "at Feb 17, 2009\n",
      "at Feb 19, 2009\n",
      "at Feb 21, 2009\n",
      "at Feb 23, 2009\n",
      "at Feb 25, 2009\n",
      "at Feb 27, 2009\n",
      "at Mar  1, 2009\n",
      "at Mar  3, 2009\n"
     ]
    }
   ],
   "source": [
    "for t in range(startt,endt,2):\n",
    "  datebordinal=dateaordinal+t\n",
    "  date_obj=datetime.date.fromordinal(datebordinal)\n",
    "  date_str=date_obj.strftime('%b %e, %Y')\n",
    "  plot_base = Ngl.map(wks,mres)\n",
    "\n",
    "  for i in range(0,instances):\n",
    "    #print(\"at i=\"+str(i))\n",
    "    #print(root+\"instance_\"+filestrings[i]+\"/roms_his_\"+filestrings[i]+\"_\"+str(t)+\".nc\")\n",
    "    f = Nio.open_file(root+\"instance_\"+filestrings[i]+\"/roms_his_\"+filestrings[i]+\"_\"+str(t)+\".nc\",\"r\")\n",
    "    \n",
    "    res.tiMainString         = date_str\n",
    "    x=f.variables[\"zeta\"][0,:,:]\n",
    "    res.cnLineColor = 2+i                      # Change line color.\n",
    "    #res.cnLineColor      = colors[i]     # change line color \n",
    "    plot = Ngl.contour(wks,x,res)           # Generate contours.\n",
    "    Ngl.overlay(plot_base,plot)                  # Overlay this contour on map.\n",
    " \n",
    "  # Draw the plot, add the lon labels, and advance the frame.\n",
    "  Ngl.draw(plot_base)\n",
    "  Ngl.frame(wks)\n",
    "  print(\"at \"+date_str)\n"
   ]
  },
  {
   "cell_type": "code",
   "execution_count": null,
   "metadata": {},
   "outputs": [],
   "source": []
  }
 ],
 "metadata": {
  "kernelspec": {
   "display_name": "Python 3",
   "language": "python",
   "name": "python3"
  },
  "language_info": {
   "codemirror_mode": {
    "name": "ipython",
    "version": 3
   },
   "file_extension": ".py",
   "mimetype": "text/x-python",
   "name": "python",
   "nbconvert_exporter": "python",
   "pygments_lexer": "ipython3",
   "version": "3.7.3"
  }
 },
 "nbformat": 4,
 "nbformat_minor": 2
}

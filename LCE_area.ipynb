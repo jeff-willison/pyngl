{
 "cells": [
  {
   "cell_type": "markdown",
   "metadata": {},
   "source": [
    "An attempt at finding the area where SSH > 17 cm"
   ]
  },
  {
   "cell_type": "code",
   "execution_count": 1,
   "metadata": {},
   "outputs": [],
   "source": [
    "%matplotlib inline\n",
    "\n",
    "import matplotlib\n",
    "import numpy as np\n",
    "import matplotlib.pyplot as plt\n",
    "from matplotlib.colors import BoundaryNorm\n",
    "from matplotlib.ticker import MaxNLocator\n",
    "from netCDF4 import Dataset\n",
    "\n",
    "import numpy as np\n",
    "import Nio,Ngl\n",
    "import os,sys\n",
    "import datetime"
   ]
  },
  {
   "cell_type": "code",
   "execution_count": 2,
   "metadata": {},
   "outputs": [
    {
     "data": {
      "image/png": "[encoded data removed]",
      "text/plain": [
       "<Figure size 432x288 with 1 Axes>"
      ]
     },
     "metadata": {
      "needs_background": "light"
     },
     "output_type": "display_data"
    }
   ],
   "source": [
    "  path_to_output = \"/scratch/rhe/GoM/Data-Assimilation/jan2009b/\"\n",
    "\n",
    "  latbound_s  = 21\n",
    "  latbound_n  = 29\n",
    "  lonbound_w  = -91\n",
    "  lonbound_e  = -82\n",
    "    \n",
    "  #-- open file\n",
    "  f = Nio.open_file(path_to_output+\"instance_0001/roms_posterior_0001_55013.nc\",\"r\")\n",
    "  gridf = Nio.open_file(path_to_output+\"instance_0001/useast_ini_0001.nc\",\"r\")\n",
    "\n",
    "  # Start date and end date\n",
    "  start_date=datetime.datetime(2009,5,24)\n",
    "  end_date=datetime.datetime(2009,10,19)\n",
    "\n",
    "\n",
    "  #############################################################\n",
    "  days_since=datetime.datetime(1858,11,17)\n",
    "  start_date_ordinal=datetime.date.toordinal(start_date)\n",
    "  end_date_ordinal=datetime.date.toordinal(end_date)\n",
    "  days_since_ordinal=datetime.date.toordinal(days_since)\n",
    "    \n",
    "  start_date_index=start_date_ordinal-days_since_ordinal\n",
    "  end_date_index=end_date_ordinal-days_since_ordinal\n",
    "    \n",
    "  # Optional sanity check\n",
    "  start_date_string=datetime.date.fromordinal(days_since_ordinal+start_date_index)\n",
    "    \n",
    "  nfiles=int((end_date_index-start_date_index+1)/2)\n",
    "  filesi=list(range(start_date_index,end_date_index,2))\n",
    "    \n",
    "  pm = gridf.variables['pm'][:,:] # these only change with latitude (non-conformal grid)\n",
    "  pn = gridf.variables['pn'][:,:]\n",
    "  dx = 1/pm\n",
    "  dy = 1/pn\n",
    "  area_full = dx*dy\n",
    "\n",
    "  lats=gridf.variables['lat_rho'][:,0]\n",
    "  lons=gridf.variables['lon_rho'][0,:]\n",
    "  # latitude lower and upper index\n",
    "  lati_s = (np.abs(lats - latbound_s)).argmin()\n",
    "  lati_n = (np.abs(lats - latbound_n)).argmin()\n",
    "  loni_w = (np.abs(lons - lonbound_w)).argmin()\n",
    "  loni_e = (np.abs(lons - lonbound_e)).argmin()\n",
    "  area=area_full[lati_s:lati_n,loni_w:loni_e] \n",
    "  dims = area.shape\n",
    "  dimsX = dims[1]\n",
    "  dimsY = dims[0]\n",
    "  total_area_array=np.empty(nfiles)\n",
    "  dates_array = np.empty(nfiles)\n",
    "  area=area_full[lati_s:lati_n,loni_w:loni_e]\n",
    "\n",
    "  os.system(\"rm -rf ../ncs/zeta.nc\")     #-- delete file if it exists\n",
    "  dataset=Dataset('../ncs/zeta.nc','w',format='NETCDF4_CLASSIC')  #-- create dimensions\n",
    "  times = dataset.createDimension('time', None)\n",
    "  lon = dataset.createDimension('lon', dimsX) # Want to compress what we have to look more like the figure; None ideally\n",
    "  lat = dataset.createDimension('lat', dimsY) # Want to compress what we have to look more like the figure; None ideally\n",
    "\n",
    "  nc_zeta = dataset.createVariable('zeta','f',('time','lat','lon'))\n",
    "  for t in range(0,nfiles):\n",
    "    f = Nio.open_file(path_to_output+\"analysis_mean.\"+str(filesi[t])+\".nc\",\"r\")\n",
    "    area_full = dx*dy    \n",
    "    area=area_full[lati_s:lati_n,loni_w:loni_e] \n",
    "    dims = area.shape\n",
    "    dimsX = dims[1]\n",
    "    dimsY = dims[0]\n",
    "    z = f.variables['zeta'][0,lati_s:lati_n,loni_w:loni_e]\n",
    "    area[z<0.17] = 0 #np.where(z > 0.17, area, 0)\n",
    "    total_area = np.sum(area)\n",
    "    total_area_array[t] = total_area/(1000*1000*1000) # 10^3 km^2\n",
    "    dates_array[t]=t*2\n",
    "\n",
    "    nc_zeta[t,:,:] = z\n",
    "    \n",
    "  dataset.close()\n",
    "  plt.plot(total_area_array)\n",
    "\n",
    "  #plt.axis(dates_array)\n",
    "  plt.show()"
   ]
  },
  {
   "cell_type": "code",
   "execution_count": null,
   "metadata": {},
   "outputs": [],
   "source": []
  }
 ],
 "metadata": {
  "kernelspec": {
   "display_name": "Python 3",
   "language": "python",
   "name": "python3"
  },
  "language_info": {
   "codemirror_mode": {
    "name": "ipython",
    "version": 3
   },
   "file_extension": ".py",
   "mimetype": "text/x-python",
   "name": "python",
   "nbconvert_exporter": "python",
   "pygments_lexer": "ipython3",
   "version": "3.7.3"
  }
 },
 "nbformat": 4,
 "nbformat_minor": 2
}
